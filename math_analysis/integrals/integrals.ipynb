{
 "cells": [
  {
   "cell_type": "markdown",
   "id": "583e661a",
   "metadata": {},
   "source": [
    "<h1 align=\"center\">Integral solving tips</h1>"
   ]
  },
  {
   "cell_type": "markdown",
   "id": "cb4b474d",
   "metadata": {},
   "source": [
    "<h2>Indefinite integral</h2>"
   ]
  },
  {
   "cell_type": "markdown",
   "id": "73066f81",
   "metadata": {},
   "source": [
    "$ \\int xe^{-x}dx$\n",
    "<br><br>\n",
    "$ f(x) = x \\to f'(x) = 1$\n",
    "<br><br>\n",
    "$ g'(x) = e^{-x} dx \\to g(x) = -e^{-x}$\n",
    "<br><br>\n",
    "$ -xe^{-x} = \\int -e^{-x} dx + \\int xe^{-x}dx \\to \\int xe^{-x}dx = -xe^{-x} + \\int e^{-x}dx $\n",
    "<br><br>\n",
    "$ \\int xe^{-x}dx = -e^{-x} -xe^{-x} $\n",
    "___"
   ]
  },
  {
   "cell_type": "markdown",
   "id": "73066f81",
   "metadata": {},
   "source": [
    "$ \\int x^2e^xdx$"
   ]
  },
  {
   "cell_type": "markdown",
   "id": "c9cdf20b",
   "metadata": {},
   "source": [
    "$ \\int \\frac{x}{e^{x}}dx$"
   ]
  },
  {
   "cell_type": "markdown",
   "id": "de191f71",
   "metadata": {},
   "source": [
    "$ \\int \\frac{1}{\\sqrt{e^{x}}}dx$"
   ]
  },
  {
   "cell_type": "markdown",
   "id": "a5639c70",
   "metadata": {},
   "source": [
    "$ \\int \\frac{e^{\\frac{1}{x^{3}}}}{x^{4}}dx$"
   ]
  },
  {
   "cell_type": "markdown",
   "id": "ee2b1b98",
   "metadata": {},
   "source": [
    "$ \\int \\frac{1}{e^x + 1}dx$"
   ]
  },
  {
   "cell_type": "markdown",
   "id": "222e213e",
   "metadata": {},
   "source": [
    "$ \\int \\frac{e^{-x}}{1 + e^{-x}}dx$"
   ]
  },
  {
   "cell_type": "markdown",
   "id": "4c75a4d6",
   "metadata": {},
   "source": [
    "$ \\int \\frac{1 + e^{x}}{1 - e^{x}}dx$"
   ]
  },
  {
   "cell_type": "markdown",
   "id": "88414837",
   "metadata": {},
   "source": [
    "$ \\int \\frac{x+ 1}{x - 1}dx$"
   ]
  },
  {
   "cell_type": "markdown",
   "id": "f7130249",
   "metadata": {},
   "source": [
    "$ \\int \\frac{1}{x^2 + x + 1}dx$"
   ]
  },
  {
   "cell_type": "markdown",
   "id": "62f83e6c",
   "metadata": {},
   "source": [
    "$ \\int \\frac{x+13}{x^2 - 4x - 5}dx$"
   ]
  },
  {
   "cell_type": "markdown",
   "id": "1ee69929",
   "metadata": {},
   "source": [
    "$ \\int \\frac{x^{3}-1}{x^2}dx$"
   ]
  },
  {
   "cell_type": "markdown",
   "id": "e30ccb1c",
   "metadata": {},
   "source": [
    "$ \\int \\frac{x^3}{1 + x^4}dx$"
   ]
  },
  {
   "cell_type": "markdown",
   "id": "c754d1e4",
   "metadata": {},
   "source": [
    "$ \\int \\frac{1}{x^n+x}dx$"
   ]
  },
  {
   "cell_type": "markdown",
   "id": "f7c89a2a",
   "metadata": {},
   "source": [
    "$ \\int \\frac{1}{1-\\sqrt{x}}dx$"
   ]
  },
  {
   "cell_type": "markdown",
   "id": "f7c89a2a",
   "metadata": {},
   "source": [
    "$ \\int \\frac{1}{1+\\sqrt[3]{x}}dx$"
   ]
  },
  {
   "cell_type": "markdown",
   "id": "cf26ea5c",
   "metadata": {},
   "source": [
    "$ \\int \\frac{1 + \\sqrt{x}}{1 - \\sqrt{x}}dx$"
   ]
  },
  {
   "cell_type": "markdown",
   "id": "47f8a022",
   "metadata": {},
   "source": [
    "$ \\int \\sqrt{x -1}dx$"
   ]
  },
  {
   "cell_type": "markdown",
   "id": "c173e9d9",
   "metadata": {},
   "source": [
    "$ \\int \\frac{1}{\\sqrt{1 + x^{2}}}dx$"
   ]
  },
  {
   "cell_type": "markdown",
   "id": "a83cac70",
   "metadata": {},
   "source": [
    "$ \\int \\frac{\\sqrt{x^2 -1}}{x}dx$"
   ]
  },
  {
   "cell_type": "markdown",
   "id": "e96dfd2d",
   "metadata": {},
   "source": [
    "$ \\int \\frac{\\sqrt{1 + x^2}}{x}dx$"
   ]
  },
  {
   "cell_type": "markdown",
   "id": "b662aa32",
   "metadata": {},
   "source": [
    "$ \\int \\frac{\\sqrt{x^n -1}}{x}dx$"
   ]
  },
  {
   "cell_type": "markdown",
   "id": "e96dfd2d",
   "metadata": {},
   "source": [
    "$ \\int \\sqrt{\\frac{x^3 - 1}{x^{11}}}dx$"
   ]
  },
  {
   "cell_type": "markdown",
   "id": "c3af9ab3",
   "metadata": {},
   "source": [
    "$ \\int \\frac{x^{2}+x+\\sqrt{x+1}}{x+1}dx$"
   ]
  },
  {
   "cell_type": "markdown",
   "id": "05328155",
   "metadata": {},
   "source": [
    "$ \\int x sin(x)dx$"
   ]
  },
  {
   "cell_type": "markdown",
   "id": "ce129ae2",
   "metadata": {},
   "source": [
    "$ \\int sin(x)cos(x)dx$"
   ]
  },
  {
   "cell_type": "markdown",
   "id": "ce129ae2",
   "metadata": {},
   "source": [
    "$ \\int cos(\\sqrt{x})dx$"
   ]
  },
  {
   "cell_type": "markdown",
   "id": "ce129ae2",
   "metadata": {},
   "source": [
    "$ \\int cos(\\sqrt{x})dx$"
   ]
  },
  {
   "cell_type": "markdown",
   "id": "8a9a778d",
   "metadata": {},
   "source": [
    "$ \\int \\frac{1}{sin(x)}dx$"
   ]
  },
  {
   "cell_type": "markdown",
   "id": "8a9a778d",
   "metadata": {},
   "source": [
    "$ \\int \\frac{sin(x)}{1 - sin(x)}dx$"
   ]
  },
  {
   "cell_type": "markdown",
   "id": "9a3fcedf",
   "metadata": {},
   "source": [
    "$ \\int \\frac{\\sqrt{tan(x)}}{sin(2x)}dx$"
   ]
  },
  {
   "cell_type": "markdown",
   "id": "d9b41be1",
   "metadata": {},
   "source": [
    "$ \\int x^2ln(x)dx$"
   ]
  },
  {
   "cell_type": "markdown",
   "id": "a244d427",
   "metadata": {},
   "source": [
    "$ \\int ln(\\sqrt{1+x^2})dx$"
   ]
  },
  {
   "cell_type": "markdown",
   "id": "107a4ef6",
   "metadata": {},
   "source": [
    "$ \\int ln(x + \\sqrt{1+x^2})dx$"
   ]
  },
  {
   "cell_type": "markdown",
   "id": "a4afc912",
   "metadata": {},
   "source": [
    "$ \\int \\frac{1}{x(ln(x))^2}dx $"
   ]
  },
  {
   "cell_type": "markdown",
   "id": "a4afc912",
   "metadata": {},
   "source": [
    "$ \\int \\frac{ln(x)}{x}dx $"
   ]
  },
  {
   "cell_type": "markdown",
   "id": "a4afc912",
   "metadata": {},
   "source": [
    "$ \\int \\frac{1}{xln(x)}dx $"
   ]
  },
  {
   "cell_type": "markdown",
   "id": "a4afc912",
   "metadata": {},
   "source": [
    "$ \\int \\frac{ln(x+1)}{x+1}dx $"
   ]
  },
  {
   "cell_type": "markdown",
   "id": "cd9a5f5f",
   "metadata": {},
   "source": [
    "$ \\int \\frac{ln(x)}{\\sqrt{x}}dx $"
   ]
  },
  {
   "cell_type": "markdown",
   "id": "4ac2869d",
   "metadata": {},
   "source": [
    "$ \\int e^{ax+b} dx$"
   ]
  },
  {
   "cell_type": "markdown",
   "id": "e05c3c5e",
   "metadata": {},
   "source": [
    "$ \\int \\frac{ax}{x^2-bx} dx$"
   ]
  },
  {
   "cell_type": "markdown",
   "id": "2addf471",
   "metadata": {},
   "source": [
    "$ \\int \\frac{1}{ax+b} dx$"
   ]
  },
  {
   "cell_type": "markdown",
   "id": "64859c75",
   "metadata": {},
   "source": [
    "$ \\int (ax+b)^{n}dx $"
   ]
  },
  {
   "cell_type": "markdown",
   "id": "0bb1ba3a",
   "metadata": {},
   "source": [
    "$ \\int \\sqrt{ax+b}dx $"
   ]
  },
  {
   "cell_type": "markdown",
   "id": "f4a98808",
   "metadata": {},
   "source": [
    "$ \\int \\frac{1}{(ax+b)^{n}}dx $"
   ]
  },
  {
   "cell_type": "markdown",
   "id": "786e2f69",
   "metadata": {},
   "source": [
    "$ \\int \\frac{ax+b}{cx+d}dx $"
   ]
  },
  {
   "cell_type": "markdown",
   "id": "09475149",
   "metadata": {},
   "source": [
    "$ \\int e^{ax}cos(bx)dx $"
   ]
  },
  {
   "cell_type": "markdown",
   "id": "32b240a1",
   "metadata": {},
   "source": [
    "$ \\int cos(ax+b)dx $"
   ]
  },
  {
   "cell_type": "markdown",
   "id": "8cca6bbf",
   "metadata": {},
   "source": [
    "$ \\int ln(ax+b)dx $"
   ]
  },
  {
   "cell_type": "markdown",
   "id": "1969dff7",
   "metadata": {},
   "source": [
    "$ \\int \\frac{1}{ax^2+bx+c} $"
   ]
  },
  {
   "cell_type": "markdown",
   "id": "f4c144cf",
   "metadata": {},
   "source": [
    "<h2>Definite integral</h2>"
   ]
  },
  {
   "cell_type": "markdown",
   "id": "9de66b7d",
   "metadata": {},
   "source": [
    "___\n",
    "$ \\int_{-1}^{1} (-1)^{ax} dx $\n",
    "<br><br>\n",
    "$ \\int_{-1}^{1} (-1)^{ax} dx = \\int_{-1}^{1} (e^{i\\pi})^{ax} = \\int_{-1}^{1} e^{i \\pi ax} dx $\n",
    "<br><br>\n",
    "$ I = \\frac{1}{\\pi ai} e^{i\\pi ax} | _{-1}^{1} = \\frac{1}{\\pi ai}(e^{i\\pi a}-e^{-i\\pi a}) = \\frac{2}{\\pi a}( \\frac{e^{ai\\pi}-e^{-ai\\pi}}{2i}) = \\frac{2}{\\pi a} sin(\\pi a) $\n",
    "<br><br>\n",
    "$ \\therefore \\int_{-1}^{1} (-1)^{ax} dx = \\frac{2}{\\pi a} sin(\\pi a)$\n",
    "___"
   ]
  },
  {
   "cell_type": "markdown",
   "id": "4eb1a2b9",
   "metadata": {},
   "source": [
    "$ \\int_{0}^{\\frac{1}{2}} ln^{2}\\left( \\frac{1}{x} - 1 \\right)dx$\n",
    "___"
   ]
  },
  {
   "cell_type": "markdown",
   "id": "46459c70",
   "metadata": {},
   "source": [
    "$ \\int_{0}^{\\pi} \\frac{sin(cos x)}{cos(sin x)}dx $\n",
    "\n",
    "___"
   ]
  },
  {
   "cell_type": "markdown",
   "id": "6abb668e",
   "metadata": {},
   "source": [
    "$ \\int_{0}^{2022} x^{2} - \\lceil x \\rceil \\lfloor x \\rfloor dx $\n",
    "<br><br>\n",
    "$ \\int_{0}^{2022} (x^{2} - \\lceil x \\rceil \\lfloor x \\rfloor) dx = \\int_{0}^{2022} x^{2} dx - \\int_{0}^{2022} \\lceil x \\rceil \\lfloor x \\rfloor) dx $\n",
    "<br><br>\n",
    "Since:\n",
    "<br><br>\n",
    "$ \\lceil x \\rceil = max \\{ m \\in Z | m \\leq\\ x \\} \\to m \\in [ 0..2022 ] $\n",
    "<br><br>\n",
    "$ \\lfloor x \\rfloor = min \\{ n \\in Z | n \\geq x\\} \\to n \\in [ 0..2021 ] $\n",
    "<br><br>\n",
    "$ \\leftrightarrow \\int_{0}^{2022} \\lceil x \\rceil \\lfloor x \\rfloor dx = \\sum_{m=0}^{2022} \\frac{n(n-1)}{2} $\n",
    "<br><br>\n",
    "$ \\int_{0}^{2022} x^{2} dx - \\sum_{m=0}^{2022} \\frac{n(n-1)}{2} = \\frac{2022^{3}}{3} - \\frac{2022(2022-1)}{2} = 674*2^{2}1011^{2} - 1011*2021 = 1011 (674 * 2 * 2022 - 2021) = 1011 (674 * 2 * 2022 - 2021 - 1 + 1 ) = 1011 (2022 (674 * 2) + 1 ) = 1011 (2 * 1011 (674 * 2) + 1 ) = 1011 (1011 * 4 * 674 + 1 )$\n",
    "<br><br>\n",
    "___"
   ]
  },
  {
   "cell_type": "markdown",
   "id": "9d8b2e21",
   "metadata": {},
   "source": [
    "<h2>Double integration</h2>"
   ]
  },
  {
   "cell_type": "markdown",
   "id": "ee6df297",
   "metadata": {},
   "source": [
    "$ \\int_0^{2a}\\int_0^{\\sqrt{2ay-y^{2}}}dxdy $"
   ]
  }
 ],
 "metadata": {
  "kernelspec": {
   "display_name": "Python 3 (ipykernel)",
   "language": "python",
   "name": "python3"
  },
  "language_info": {
   "codemirror_mode": {
    "name": "ipython",
    "version": 3
   },
   "file_extension": ".py",
   "mimetype": "text/x-python",
   "name": "python",
   "nbconvert_exporter": "python",
   "pygments_lexer": "ipython3",
   "version": "3.8.10"
  }
 },
 "nbformat": 4,
 "nbformat_minor": 5
}
