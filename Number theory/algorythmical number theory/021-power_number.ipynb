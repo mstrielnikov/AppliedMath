{
 "cells": [
  {
   "cell_type": "markdown",
   "id": "252eaceb",
   "metadata": {},
   "source": [
    "<h1 align=\"center\">Optimizing power of number operation</h1>\n",
    "\n",
    "We may expand spiral pattern analagously to get qube. So, we get the area side of 3rd cube by squaring _x_. But for case of 3rd power we will continue to twist our square in spiral like a towel. We will got the same pattern.\n",
    "\n",
    "$$ x^3 = f_{even}(x,3) = \\sum \\limits _{i=1} ^{x/2}  (2x^{2}-x) $$"
   ]
  },
  {
   "cell_type": "code",
   "execution_count": 33,
   "id": "b15a4f73",
   "metadata": {
    "scrolled": false
   },
   "outputs": [],
   "source": [
    "\n"
   ]
  },
  {
   "cell_type": "markdown",
   "id": "198a3e1b",
   "metadata": {},
   "source": [
    "<h2>Expanding spiral pattern for arbitrary power</h2>\n",
    "\n",
    "Put _a_ is a parameter to express arbitrary $ x^a = f(x, a) $.\n",
    "\n",
    "$$ x^a = f(x, a) = \\sum \\limits _{i=1} ^{x/2}f(x, a-i) $$\n",
    "\n",
    "<h2>Binary power optimization</h2>"
   ]
  },
  {
   "cell_type": "markdown",
   "id": "4dc4f132",
   "metadata": {},
   "source": [
    "<h2>Rising to power using matrix</h2>"
   ]
  }
 ],
 "metadata": {
  "kernelspec": {
   "display_name": "Python 3 (ipykernel)",
   "language": "python",
   "name": "python3"
  },
  "language_info": {
   "codemirror_mode": {
    "name": "ipython",
    "version": 3
   },
   "file_extension": ".py",
   "mimetype": "text/x-python",
   "name": "python",
   "nbconvert_exporter": "python",
   "pygments_lexer": "ipython3",
   "version": "3.8.10"
  }
 },
 "nbformat": 4,
 "nbformat_minor": 5
}
