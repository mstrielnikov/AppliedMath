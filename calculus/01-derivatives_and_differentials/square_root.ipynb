{
 "cells": [
  {
   "cell_type": "markdown",
   "id": "583e661a",
   "metadata": {},
   "source": [
    "<h1 align=\"center\"> Square root interpolation for Reals with derivatives</h1>"
   ]
  },
  {
   "cell_type": "markdown",
   "id": "9c874c5b",
   "metadata": {},
   "source": [
    "$ \\sqrt{x} = \\frac{x + y}{2\\sqrt{y}} $\n",
    "\n",
    "$ \\sqrt{23} = \\frac{23 + 25}{2\\sqrt{25}} = 4.8 $\n",
    "\n",
    "$ \\sqrt{50} = \\frac{50 + 49}{2\\sqrt{49}} = 7.071 $"
   ]
  }
 ],
 "metadata": {
  "kernelspec": {
   "display_name": "Python 3 (ipykernel)",
   "language": "python",
   "name": "python3"
  },
  "language_info": {
   "codemirror_mode": {
    "name": "ipython",
    "version": 3
   },
   "file_extension": ".py",
   "mimetype": "text/x-python",
   "name": "python",
   "nbconvert_exporter": "python",
   "pygments_lexer": "ipython3",
   "version": "3.8.10"
  }
 },
 "nbformat": 4,
 "nbformat_minor": 5
}
