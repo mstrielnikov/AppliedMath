{
 "cells": [
  {
   "cell_type": "markdown",
   "id": "356c9522",
   "metadata": {},
   "source": [
    "<h1 align=\"center\">Sequences</h1>\n",
    "\n"
   ]
  },
  {
   "cell_type": "markdown",
   "id": "f6ee2ef1",
   "metadata": {},
   "source": [
    "$ \\sum \\limits _{k=0} ^{\\infin} r^k = \\frac{1}{1 - r}  $"
   ]
  },
  {
   "cell_type": "markdown",
   "id": "6c428cea",
   "metadata": {},
   "source": [
    "$ \\sum \\limits _{k=0} ^{\\infin} kr^k = \\frac{1}{(1 - r)^{2}}  $"
   ]
  },
  {
   "cell_type": "markdown",
   "id": "6c428cea",
   "metadata": {},
   "source": [
    "$ \\sum \\limits _{k=0} ^{\\infin} k^{2}r^k = \\frac{r(r+1)}{(1 - r)^{3}}  $"
   ]
  },
  {
   "cell_type": "markdown",
   "id": "6c428cea",
   "metadata": {},
   "source": [
    "$ \\sum \\limits _{k=0} ^{\\infin} k^{3}r^k = \\frac{r(r^{2} + 4r + 1)}{(1 - r)^{4}}  $"
   ]
  },
  {
   "cell_type": "markdown",
   "id": "6c428cea",
   "metadata": {},
   "source": [
    "$ \\sum \\limits _{k=0} ^{\\infin} k^{4}r^k = \\frac{r(r^{4} + 11r^{2} + 11r + 1)}{(1 - r)^{5}}  $"
   ]
  },
  {
   "cell_type": "markdown",
   "id": "9c874c5b",
   "metadata": {},
   "source": [
    "$ \\sum \\limits _{k=1} ^{n} k^{3} = \\left( \\sum \\limits _{k=1} ^{n} k \\right)^{2} $"
   ]
  },
  {
   "cell_type": "markdown",
   "id": "9c874c5b",
   "metadata": {},
   "source": [
    "$ \\sum \\limits _{k=1} ^{n} k = 1 + 2 + 3 + ... + n = \\frac{n(n+1)}{2} $"
   ]
  },
  {
   "cell_type": "markdown",
   "id": "9c874c5b",
   "metadata": {},
   "source": [
    "$ p + (p + 1) + ... (q - 1) + q = \\frac{(p+q)(q-p+1)}{2} $"
   ]
  },
  {
   "cell_type": "markdown",
   "id": "9c874c5b",
   "metadata": {},
   "source": [
    "$ \\sum \\limits _{k=1} ^{n} (2k-1) = 1 + 3 + 5 +  ... + (2n - 1) = n^{2} $"
   ]
  },
  {
   "cell_type": "markdown",
   "id": "9c874c5b",
   "metadata": {},
   "source": [
    "$ \\sum \\limits _{k=1} ^{n} 2k = 2 + 4 + 6 + ... + (2n - 2) + 2n = n(n + 1) $"
   ]
  },
  {
   "cell_type": "markdown",
   "id": "9c874c5b",
   "metadata": {},
   "source": [
    "$ \\sum \\limits _{k=1} ^{n} k^{2} = 1^2 + 2^2 + 3^2 + ... + (n - 1)^2 + n^2 = \\frac{n(n+1)(2n+1)}{6} $"
   ]
  },
  {
   "cell_type": "markdown",
   "id": "9c874c5b",
   "metadata": {},
   "source": [
    "$ \\sum \\limits _{k=1} ^{n} (2k - 1)^{2} = 1^2 + 3^2 + 5^2 + ... + (2n - 1)^2 = \\frac{n(4n^{2}-1)}{3} $"
   ]
  },
  {
   "cell_type": "markdown",
   "id": "9c874c5b",
   "metadata": {},
   "source": [
    "$ \\sum \\limits _{k=1} ^{n} k^{3} = 1^3 + 2^3 + 3^3 + ... + n^3 = \\frac{n^{2}(n+1)^{2}}{4} $"
   ]
  },
  {
   "cell_type": "markdown",
   "id": "9c874c5b",
   "metadata": {},
   "source": [
    "$ \\sum \\limits _{k=1} ^{n} (2k-1)^{3} = 1^3 + 3^3 + 5^3 + ... + (2n - 1)^3 = n^{2}(2n^{2}-1) $"
   ]
  },
  {
   "cell_type": "markdown",
   "id": "9c874c5b",
   "metadata": {},
   "source": [
    "$ \\sum \\limits _{k=1} ^{n} k^{4} = 1^4 + 2^4 + 3^4 + ... + n^4 = \\frac{n(n+1)(2n-1)(3n^2+3n-1)}{30} $"
   ]
  }
 ],
 "metadata": {
  "kernelspec": {
   "display_name": "Python 3 (ipykernel)",
   "language": "python",
   "name": "python3"
  },
  "language_info": {
   "codemirror_mode": {
    "name": "ipython",
    "version": 3
   },
   "file_extension": ".py",
   "mimetype": "text/x-python",
   "name": "python",
   "nbconvert_exporter": "python",
   "pygments_lexer": "ipython3",
   "version": "3.8.10"
  }
 },
 "nbformat": 4,
 "nbformat_minor": 5
}
