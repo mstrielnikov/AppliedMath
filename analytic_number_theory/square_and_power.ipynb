{
 "cells": [
  {
   "cell_type": "markdown",
   "id": "f6ee2ef1",
   "metadata": {},
   "source": [
    "<h1 align=\"center\">Optimization for rising natural number to a power</h1>\n",
    "\n",
    "<h2>Simple squaring</h2>\n",
    "\n",
    "Trivial square formulae is obvious enough for natural numbers. It is often represented as a trivial multiplication of element by itself:\n",
    "\n",
    "$$ x^2 = x * x $$\n",
    "\n",
    "Multiplication is often a **combination** for descrete elements. It is easy to see for rectangle on fig. 1. In our case length and with are the same value _x_."
   ]
  },
  {
   "cell_type": "markdown",
   "id": "7e72fd8d",
   "metadata": {},
   "source": [
    "$$ Fig 1 $$"
   ]
  },
  {
   "cell_type": "markdown",
   "id": "738bf894",
   "metadata": {},
   "source": [
    "**Algorithmic complexity**. So, we put _n_ as a length of the number _x_, then squaring will require $O(n^2)$ of elementary one digit summations."
   ]
  },
  {
   "cell_type": "markdown",
   "id": "96b37126",
   "metadata": {},
   "source": [
    "<h2>Replace multiplication to odd sequence in squaring</h2>\n",
    "\n",
    "We could enable geometric intuintion and represent squaring not a **combination** but in way of repeatable **pattern filling**. We may fill square with some angle-like pattern which decreases while going from one corner to another diagonally (fig. 2). "
   ]
  },
  {
   "cell_type": "markdown",
   "id": "635f9d7e",
   "metadata": {},
   "source": [
    "$$ Fig 2 $$"
   ]
  },
  {
   "cell_type": "markdown",
   "id": "0ca5785c",
   "metadata": {},
   "source": [
    "So we have length and width which is equal _2n_ but angled elementary square should be included just once, so we get length _2n-1_ for one angled pattern. We are going to repeat the pattern and get following sum:\n",
    "\n",
    "$$ f(x) = \\sum \\limits _{i=1} ^{x} (2i-1) = x^2 $$\n",
    "\n",
    "The sequence of $ x_{i} $ produced by $ f(x) $ is an arithmetic progression:\n",
    "\n",
    "$$ x_{i+1} = x_{i}+2, i \\in [ 1; x ] $$\n",
    "\n",
    "**Algorythmic complexity**. So, we got sufficient optimization. We just need to reuse previous result by adding 2 _n_-times than algorythmic complexity is $ O = O(n) $."
   ]
  },
  {
   "cell_type": "markdown",
   "id": "e134c4ff",
   "metadata": {},
   "source": [
    "<h2>Optimize squaring by traversing square in spiral pattern</h2>\n",
    "\n",
    "Imagine square computation as traversing a square by spiral without self intersections (fig. 3)."
   ]
  },
  {
   "cell_type": "markdown",
   "id": "4346660a",
   "metadata": {},
   "source": [
    "$$ Fig 3 $$"
   ]
  },
  {
   "cell_type": "markdown",
   "id": "f919effa",
   "metadata": {},
   "source": [
    "For square with even length we see that:\n",
    "\n",
    "$$ f_{even}(x) = \\sum \\limits _{i=1} ^{x/2} (8i-4) \\to f_{even}(x) = 4 \\left[ \\sum \\limits _{i=1} ^{x/2} (2i-1) \\right]  $$\n",
    "\n",
    "It is easy to see for square with odd length _x_: \n",
    "\n",
    "$$ f_{odd}(x) = f_{even}(x-1) + 2x-1 \\to f_{odd}(x) = 4 \\left[ \\sum \\limits _{i=1} ^{\\frac{x-1}{2}} (2i-1) \\right] + 2x-1 = 4 \\left[ \\sum \\limits _{i=1} ^{\\lfloor x/2 \\rfloor} (2i-1) \\right] + 2x-1 $$"
   ]
  },
  {
   "cell_type": "markdown",
   "id": "41a5ac11",
   "metadata": {},
   "source": [
    "Rewrite our function _f(x)_ as a sum of two functions. Put $ h(x) = \\sum \\limits _{i=1} ^{x} (2i - 1) $ and think that $ 2x-1 $ is a residue only if _x_ is odd. So we can express this condition in a function _r(x)_ as follwoing:\n",
    "\n",
    "$$ r(x) =\n",
    "\\begin{cases}\n",
    "2x-1, x = 2k+1\n",
    "\\\\\n",
    "0, x = 2k\n",
    "\\\\\n",
    "k \\in N\n",
    "\\end{cases}\n",
    "$$\n",
    "\n",
    "Rember that:\n",
    "\n",
    "$$\n",
    "sin(\\pi x)=\n",
    "\\begin{cases}\n",
    "0, x = 2k,\n",
    "\\\\\n",
    "1, x = 2k+1,\n",
    "\\\\\n",
    "k \\in N\n",
    "\\end{cases}\n",
    "$$ \n",
    "\n",
    "We could rewrite _r(x)_ in analytic way:\n",
    "\n",
    "$$ r(x) = (2x-1)*sin(\\pi x) $$\n",
    "\n",
    "Let's pass our substitutions and sum up:\n",
    "\n",
    "$$ f(x) = 4 h(\\lfloor \\frac{x}{2} \\rfloor) + r(x) = 4 \\left[ \\sum \\limits _{i=1} ^{\\lfloor x/2 \\rfloor } (2i-1) \\right] + (2x-1)*sin(\\pi x) $$\n",
    "\n",
    "**Algorithmic complexity**. So we iterate just over odd numbers up to _x/2_ which reduces addtions 2 times. Also we use symmetricy property of rectangle, so we compute just 1/4th part of square, which requires multiply result by 4. We could interpret multiplication by 4 as 2 bit left shifts which is O(1) taken 2 times. So complexity equals to $ O = 2*O(1)+O(\\frac{n}{2}) $"
   ]
  },
  {
   "cell_type": "markdown",
   "id": "f5d7e63d",
   "metadata": {},
   "source": [
    "<h2>Optimization using arithmetic progression property</h2>\n",
    "\n",
    "Let's check up and analyze our squaring function on some odd and even numbers as examples.\n",
    "\n",
    "**Example. 1.1**\n",
    "\n",
    "Put even number _12_ as example to our squaring function:\n",
    "\n",
    "$$ f(12) = 4 \\left[ \\sum \\limits _{i=1} ^{ \\lfloor 12/2 \\rfloor} (2i-1) \\right] + (2*12-1)*sin(12\\pi) = 4 \\left[ \\sum \\limits _{i=1} ^{6} (2i-1) \\right] = 4*(1+3+5+7+9+11) + 0 =4*36=12^2=144 $$\n",
    "\n",
    "**Example. 1.2**\n",
    "\n",
    "Put odd number _13_ as example to our squaring function:\n",
    "\n",
    "$$ f(13) = 4 \\left[ \\sum \\limits _{i=1} ^{ \\lfloor 13/2 \\rfloor } (2i-1) \\right] + (2x-1)*sin(13\\pi) = 4 \\left[ \\sum \\limits _{i=1} ^{6} (2i-1) \\right] + 2x-1 = 4*(1+3+5+7+9+11) + (2*13-1) = 144 + 25 = 13^2 = 169 $$\n",
    "\n",
    "And note that _h(x)_ is an *ariphmetic progression* under sum operator. We can see, that sum of ours every first and last is constant:\n",
    "\n",
    "$$ 1 + 11 = 12 $$\n",
    "$$ 3 + 9 = 12 $$\n",
    "$$ 5 + 7 = 12 $$\n",
    "$$ (2i-1) + (x - (2i - 1)) = x $$\n",
    "\n",
    "So, sequence length becomes 2 times shorter and elemets are the same:\n",
    "\n",
    "$$ f(x) = 4 \\left[ \\sum \\limits _{i=1}^{\\lfloor x/4 \\rfloor} (2i-1 + x - (2i-1)) \\right] + r(x) = 4 \\sum \\limits _{i=1, x_{i}=x} ^{\\lfloor x/4 \\rfloor} x_{i} + r(x) $$\n",
    "\n",
    "Correct _r(x)_ as follows:\n",
    "\n",
    "$$ r(x) = x*sin(\\pi x) $$\n",
    "\n",
    "**Algorithmic complexity**. So we got one more optimisation for our $ f(x) $ which results into $ O(\\frac{n}{4}) $ \n",
    "\n"
   ]
  },
  {
   "cell_type": "markdown",
   "id": "6d3528b1",
   "metadata": {},
   "source": [
    "<h2>Optimize using divide and conquer strategy </h2>\n",
    "\n",
    "We could moving further and found one more optimization by founding doubling pattern which is simplie for computation. At that point we migth apply divide and conquer startegy to reduce additions logarithmically. Instead of adding _x_ with itself _x/4_ times we might to double _x_ each time up to $ \\lfloor x/4 \\rfloor $. It will give us $ \\lfloor \\log_2{x/4} \\rfloor $ doubling operations. Let's memorize the last result and expand it:\n",
    "\n",
    "$$ f(x) = 4 \\sum \\limits _{i=1, x_{i}=x} ^{\\lfloor x/4 \\rfloor} x_{i} + r(x) = 4 (x_{1}+x_{2}+x_{3}+...+x_{i}+x_{x/4}) + r(x) $$\n",
    "\n",
    "We might rewrite series under sum operator from _f(x)_ as a **reccurent** sequence: \n",
    "\n",
    "$$ s(x) = \\sum \\limits _{i=1}^{\\lfloor \\log_2{x/4} \\rfloor} s_{k} $$,\n",
    "where $ s_{k+1}(x) = s_{k}(x) $ is a sum of doubling element _x_ up to _k_ times and defined as:\n",
    "\n",
    "$$ s_{1}(t) = t $$\n",
    "$$ s_{2}(t) = s_{1} + s_{1} = 2t $$\n",
    "$$ s_{4}(t) = s_{2} + s_{2} = 4t $$\n",
    "$$ s_{2^k}(t) = s_{2^{k/2}} * 2 * t = 2^{k}t $$\n",
    "\n",
    "So we got following geometric progression:\n",
    "\n",
    "$$ s(t) = 2^{\\lfloor\\log_{2}t\\rfloor}t $$\n",
    "\n",
    "So we can express our original $ f(x) $ with:\n",
    "\n",
    "$$ f(x) = 4(s(x) + l(x)) + r(x) = 4s(x) + 4l(x) + r(x) \\to $$\n",
    "\n",
    "$$ \\to l(x) = \\frac{f(x) - 4s(x) - r(x)}{4} =  \\frac{1}{4} \\sum \\limits _{i=\\lfloor\\log_{2}x\\rfloor+1}^x (2i-1) $$\n",
    "\n",
    "So improved formula will looks like:\n",
    "\n",
    "$$ f(x) = 4 * 2^{\\lfloor \\frac{\\log_{2}x}{4} \\rfloor}x + \\sum \\limits _{i=\\lfloor\\log_2{x}\\rfloor+1}^{\\lfloor x/4 \\rfloor} (2i-1) + x*sin(\\pi x) $$\n",
    "\n",
    "**Algorithmic complexity**. At the last point we have reduced complexity drasticaly. We split algorithm to the two sums one of which iterates over powers of 2 inside number. The second sum iterates just $ m=n - 2^{\\lfloor\\log_{2}n\\rfloor/4} $ times. So complexity resulting into:\n",
    "\n",
    "$$ O = O(\\lfloor\\log_{4}{\\frac{n}{4}}\\rfloor) + O(\\frac{n}{4}-2^{\\lfloor\\log_{2}{n/4}\\rfloor}) $$"
   ]
  },
  {
   "cell_type": "code",
   "execution_count": 32,
   "id": "b569796c",
   "metadata": {},
   "outputs": [
    {
     "name": "stdout",
     "output_type": "stream",
     "text": [
      "4 8\n"
     ]
    },
    {
     "ename": "AssertionError",
     "evalue": "",
     "output_type": "error",
     "traceback": [
      "\u001b[0;31m---------------------------------------------------------------------------\u001b[0m",
      "\u001b[0;31mAssertionError\u001b[0m                            Traceback (most recent call last)",
      "Input \u001b[0;32mIn [32]\u001b[0m, in \u001b[0;36m<module>\u001b[0;34m\u001b[0m\n\u001b[1;32m     17\u001b[0m \u001b[38;5;28;01mfor\u001b[39;00m i \u001b[38;5;129;01min\u001b[39;00m \u001b[38;5;28mrange\u001b[39m(\u001b[38;5;28mlen\u001b[39m(test)):\n\u001b[1;32m     18\u001b[0m     \u001b[38;5;28mprint\u001b[39m(classicSqr[i], test[i])\n\u001b[0;32m---> 19\u001b[0m     \u001b[38;5;28;01massert\u001b[39;00m(classicSqr[i] \u001b[38;5;241m==\u001b[39m test[i])\n",
      "\u001b[0;31mAssertionError\u001b[0m: "
     ]
    }
   ],
   "source": [
    "args = [ i for i in range(2,100) ] \n",
    "\n",
    "classicSqr = [ i**2 for i in args ]\n",
    "\n",
    "bit_length = lambda x: int(x).bit_length()\n",
    "\n",
    "s = lambda x: (2**(bit_length(x)//4)) * x\n",
    "\n",
    "l = lambda x: sum( [ 2*i-1 for i in range( (bit_length(x)//4)+1, (x+2)//4) ] )\n",
    "\n",
    "r = lambda x: (x % 2)*(2*x-1)\n",
    "\n",
    "sqr = lambda x: 4*(s(x)+l(x))+r(x)\n",
    "\n",
    "test = [ sqr(i) for i in args ]\n",
    "\n",
    "for i in range(len(test)):\n",
    "    print(classicSqr[i], test[i])\n",
    "    assert(classicSqr[i] == test[i])    "
   ]
  },
  {
   "cell_type": "markdown",
   "id": "4239013f",
   "metadata": {},
   "source": [
    "<h2>Expanding spiral pattern for cube</h2>\n",
    "\n",
    "We may expand spiral pattern analagously to get qube. So, we get the area side of 3rd cube by squaring _x_. But for case of 3rd power we will continue to twist our square in spiral like a towel. We will got the same pattern.\n",
    "\n",
    "$$ x^3 = f_{even}(x,3) = \\sum \\limits _{i=1} ^{x/2} \\left( 2 (x^{2}-x) + x^{2} + (x^2-2x) \\right) = 16 \\sum \\limits _{i=1} ^{x/2} (x^{2}-x) $$"
   ]
  },
  {
   "cell_type": "code",
   "execution_count": 33,
   "id": "8505fb1e",
   "metadata": {
    "scrolled": false
   },
   "outputs": [],
   "source": [
    "args = [ i for i in range(100) ] \n",
    "\n",
    "classicSqr = [ i**2 for i in args ]\n",
    "\n",
    "f = lambda x: 4*sum( [ 2*i-1 for i in range(1, (x+2)//2) ] )\n",
    "\n",
    "r = lambda x: (x % 2)*(2*x-1)\n",
    "\n",
    "sqr = lambda x: f(x)+r(x)\n",
    "\n",
    "test = [ sqr(i) for i in args ]\n",
    "\n",
    "for i in range(100):\n",
    "    assert(classicSqr[i] == test[i])\n"
   ]
  },
  {
   "cell_type": "markdown",
   "id": "1b838572",
   "metadata": {},
   "source": [
    "<h2>Expanding spiral pattern for arbitrary power</h2>\n",
    "\n",
    "Put _a_ is a parameter to express arbitrary $ x^a = f(x, a) $.\n",
    "\n",
    "$$ x^a = f(x, a) = \\sum \\limits _{i=1} ^{x/2}f(x, a-i) $$\n",
    "\n",
    "<h2>Binar power optimization</h2>"
   ]
  },
  {
   "cell_type": "code",
   "execution_count": null,
   "id": "837ab0e0",
   "metadata": {
    "scrolled": true
   },
   "outputs": [],
   "source": []
  }
 ],
 "metadata": {
  "kernelspec": {
   "display_name": "Python 3 (ipykernel)",
   "language": "python",
   "name": "python3"
  },
  "language_info": {
   "codemirror_mode": {
    "name": "ipython",
    "version": 3
   },
   "file_extension": ".py",
   "mimetype": "text/x-python",
   "name": "python",
   "nbconvert_exporter": "python",
   "pygments_lexer": "ipython3",
   "version": "3.8.10"
  }
 },
 "nbformat": 4,
 "nbformat_minor": 5
}
