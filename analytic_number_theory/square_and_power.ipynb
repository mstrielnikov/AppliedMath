{
 "cells": [
  {
   "cell_type": "markdown",
   "id": "f6ee2ef1",
   "metadata": {},
   "source": [
    "<h1 align=\"center\">Optimization for rising natural number to a power</h1>\n",
    "\n",
    "<h2>1 Squaring </h2>\n",
    "\n",
    "<h3>1.1 Squaring definition and consequences</h3>\n",
    "\n",
    "Trivial square formulae is obvious enough for natural numbers. It is often represented as a trivial multiplication of element by itself:\n",
    "\n",
    "$$ x^2 = x * x $$\n",
    "\n",
    "**Algorithmic complexity**. So, we put _n_ as a length of the number _x_, then squaring will require $O(n^2)$ of elementary one digit summations.\n",
    "\n",
    "We could think that square of _x_ is  sum of _x_ with itself _x_ times:\n",
    "\n",
    "$$ x^2 = \\sum \\limits _{i=1} ^{x} x $$\n",
    "\n",
    "The complexity of such representation is not changed but allows us to apply *double and add* trick optimization. In the best case when number _x_ is power of _2_ doubling will result to obvious result:\n",
    "\n",
    "$$ x^2 = \\sum \\limits _{i=1} ^{\\log_{2}{x}} 2i \\left[ x = 2^a, a \\in N \\right] $$\n",
    "\n",
    "It is easy to see that current approach is closely related with numbers' representation in binary form. <br>\n",
    "Put $ x_{bin} $ as number in binary  system, _N_ number of digits in binary representation, $ n_{i} $ is every single bit. Then any number could be written as series:\n",
    "\n",
    "$$ x_{bin} = \\sum \\limits _{i=1} ^{N} (2^{i}*n_{i}) $$\n",
    "\n",
    "Note that _N_-length for any number is:\n",
    "\n",
    "$$ N = \\lceil \\log_{2}{x} \\rceil $$\n",
    "\n",
    "So, to square any number _x_ we need double _x_ for every $ n_{i} $ bit equals *0* then double and add _x_ for every $ n_{i} $ bit equals *1*.\n",
    "We could write down that condition for every bit on every _i_-th iteration step as $ s_{i} $:\n",
    "\n",
    "$$ s_{i} = 2x+ x*sin(n_{i}\\pi) $$\n",
    "\n",
    "Note the following:\n",
    "\n",
    "$$ n_{i} \\in \\{0,1\\} \\to sin(n_{i}\\pi) \\in \\{0,1\\} $$\n",
    "\n",
    "So squaring formula will looks like:\n",
    "\n",
    "$$ x^2 = \\sum \\limits _{i=1} ^{N} s_{i} = \\sum \\limits _{i=1} ^{N} (2x + x*sin(n_{i}\\pi)) $$\n",
    "\n",
    "**Algorithmic complexity**. We see that complexity consists from numbers of doublings $ (O_{doubles}) $ and addtion of _x_ $ (O_{additions}) $. Note that number of doublings $ (O_{doubles}) $ is always equals $ \\log_{2}{x} $. Addtion number in algorithm is equals to number of non-zero bits which could be $ \\log_{2}{x} $ times for the worst case or _0_ in the best one. Also additions could return numbers with one more carry digit which will increase number length to one digit for the next iteration. The number of carry bits ($ O_{carry} $) cannot be bigger then $ \\log_{2}{n} $ also. So we have:\n",
    "\n",
    "$$ O_{wosrt} = O_{adds} + O_{doubles} + O_{carries} = n \\log_{2}{n} + n \\log_{2}{n} + n \\log_{2}{n} = 3 n \\log_{2}{n} $$\n",
    "\n",
    "$$ O_{best} = O_{doubles} = n \\log_{2}{n} $$\n",
    "\n",
    "Suppose that numbers between _best_ and _worst_ case distributed uniformly we have average complexity as: \n",
    "\n",
    "$$ O_{avg} = \\frac{3}{2} n \\log_{2}{n} $$"
   ]
  },
  {
   "cell_type": "markdown",
   "id": "86185a66",
   "metadata": {},
   "source": [
    "<h3>1.2 Square operation as a sequence</h3>\n",
    "\n",
    "Let's overview sequense of squares $ k_{x} $ and find the pattern:\n",
    "\n",
    "$$ k_{1} = 1^2 = 1 $$\n",
    "$$ k_{2} = 2^2 = 1+3 = 4 $$\n",
    "$$ k_{3} = 3^2 = 1+3+5 = 9 $$\n",
    "$$ k_{4} = 4^2 = 1+3+5+7 = 16 $$\n",
    "$$ k_{i} = k_{i}^{2} = k_{i-1}+2i-1 $$\n",
    "$$ k_{x} = x^2 = k_{x-1}+2x-1 $$\n",
    "\n",
    "So represent the sequence below as a series:\n",
    "\n",
    "$$ x^2 = \\sum \\limits _{i=1} ^{x} (2i-1) $$\n",
    "\n",
    "**Algorythmic complexity**. The complexity of algorythm got consists from two parts: doublings $ (O_{doubles}) $ and substraction of _1_ $ (O_{subs}) $. Note that number of both operations $ (O_{doubles}) $ and $ (O_{subs}) $ is equal but complexity differs. Doubling is as sum O(n) when substraction of _1_ is O(1). We could easily see that number of doublings equals number of evens smaller then _x_ with _1_ and equals $ \\lfloor \\frac{x}{2} \\rfloor $. To obtain $ O_{doubles} $ we need to calculate number of evens $ C_{evens} $ that match into particular number length. This easily could be seen in 2-base system. Then all combinations $ C_{all} $ of number with length _N_ and lower are:\n",
    "\n",
    "$$ C_{all} = 2^{N} \\to C_{evens} = \\frac{C_{all}}{2} = \\frac{2^{N}}{2} = \\frac{2^{\\lceil \\log_{2}{n} \\rceil}}{2} = \\lceil \\frac{n}{2} \\rceil $$\n",
    "\n",
    "$$ \\therefore O_{doubles} = O(C_{evens} * n) = \\lceil \\frac{n}{2} \\rceil * n = \\lceil \\frac{n^{2}}{2} \\rceil $$\n",
    "\n",
    "$$ O_{subs} = C_{evens} * O(1) =  \\lceil \\frac{n}{2} \\rceil $$\n",
    "\n",
    "$$ O = O_{subs} + O_{doubles} = \\lceil \\frac{n^{2}}{2} \\rceil + \\lceil \\frac{n}{2} \\rceil = \\lceil \\frac{n(n+1)}{2} \\rceil $$\n",
    "\n",
    "We see that such method is not practically applicable because it more complex algoritmically the regular squaring."
   ]
  },
  {
   "cell_type": "markdown",
   "id": "8f469f06",
   "metadata": {},
   "source": [
    "We may aquire recurrent representation of the same formula to enable efficient memory usage:\n",
    "\n",
    "$$ k_{i} = k_{i-1} + 2 \\to x^2 = 1 + \\sum \\limits _{i=2,k_{1}=1} ^{x} (k_{i-1} + 2) $$\n",
    "\n",
    "**Algorythmic complexity**. So, we got sufficient optimization. We just need to reuse previous result by adding 2 costs $ O(1) $ and done $ C_{evens} $-times. That result us with complexity: \n",
    "\n",
    "$$ O = \\lceil \\frac{n}{2} \\rceil $$"
   ]
  },
  {
   "cell_type": "markdown",
   "id": "6282503f",
   "metadata": {},
   "source": [
    "<h3> 1.3 Squaring using geometrical intuition</h3>\n",
    "\n",
    "Multiplication is often a **combination** for descrete elements. It is easy to see for rectangle on fig. 1. In our case length and with are the same value _x_. We will show the same thing geometrically. In that squaring operation represented as a repeatable **pattern filling** of the square. We may fill square with some angle-like pattern which decreases while going from one corner to another diagonally (fig. 1)."
   ]
  },
  {
   "cell_type": "markdown",
   "id": "61060a6d",
   "metadata": {},
   "source": [
    "$$ Fig 1 $$"
   ]
  },
  {
   "cell_type": "markdown",
   "id": "4346660a",
   "metadata": {},
   "source": [
    "We can find a symmetry within that pattern and reduce number of addtions. Any square of even number is divisible by 4 (Fig. 2)."
   ]
  },
  {
   "cell_type": "markdown",
   "id": "fbd6f83f",
   "metadata": {},
   "source": [
    "$$ Fig2 $$"
   ]
  },
  {
   "cell_type": "markdown",
   "id": "1780d66a",
   "metadata": {},
   "source": [
    "Let's put _x_ as even and got:\n",
    "\n",
    "$$ x^2 = f_{even}(x) = 4 \\sum \\limits _{i=2} ^{x/2} (2i-1) $$\n",
    "\n",
    "It is easy to see for square with odd length _x_: \n",
    "\n",
    "$$ f_{odd}(x) = f_{even}(x-1) + 2x-1 \\to f_{odd}(x) = 4 \\left[ \\sum \\limits _{i=1} ^{\\frac{x-1}{2}} (2i-1) \\right] + 2x-1 = 4 \\left[ \\sum \\limits _{i=1} ^{\\lfloor x/2 \\rfloor} (2i-1) \\right] + 2x-1 $$"
   ]
  },
  {
   "cell_type": "markdown",
   "id": "ea0585ec",
   "metadata": {},
   "source": [
    "Let's think that $ 2x-1 $ is a residue only if _x_ is odd. So we can express this condition as follwoing:\n",
    "\n",
    "$$\n",
    "sin(\\pi x)=\n",
    "\\begin{cases}\n",
    "0, x = 2k,\n",
    "\\\\\n",
    "1, x = 2k+1,\n",
    "\\\\\n",
    "k \\in N\n",
    "\\end{cases}\n",
    "$$ \n",
    "\n",
    "Sum up:\n",
    "\n",
    "$$ x^2 = 4 \\sum \\limits _{i=1} ^{\\lfloor x/2 \\rfloor } (2i-1) + (2x-1)*sin(\\pi x) $$\n",
    "\n",
    "So we could remember result from chapter 1.2 and found reccurent inside our improved formula:\n",
    "\n",
    "$$ x^2 = 4 \\sum \\limits _{i=1} ^{\\lfloor x/2 \\rfloor } (2i-1) + (2x-1)*sin(\\pi x) $$\n",
    "\n",
    "$$ x^2 = 1 + 4 \\sum \\limits _{i=2,k_{1}=1} ^{\\lfloor x/2 \\rfloor} (k_{i-1} + 2) + (2x-1)*sin(\\pi x) $$\n",
    "\n",
    "\n",
    "**Algorithmic complexity**. So we iterate just over odd numbers up to $ \\frac{x}{2} $ which reduces addtions 2 times. Also we use symmetricy property of rectangle, so we compute just 1/4th part of square, which requires multiply result by 4. We could interpret multiplication by 4 as 2 bit left shifts which is O(1) taken 2 times. So complexity equals to $ O = \\frac{n}{4} + O(1) $"
   ]
  },
  {
   "cell_type": "code",
   "execution_count": 34,
   "id": "410eee52",
   "metadata": {},
   "outputs": [],
   "source": [
    "args = [ i for i in range(100) ] \n",
    "\n",
    "classicSqr = [ i**2 for i in args ]\n",
    "\n",
    "h = lambda x: 4*sum( [ 2*i-1 for i in range(1, (x+2)//2) ] )\n",
    "\n",
    "sin = lambda x: (x % 2)*(2*x-1)\n",
    "\n",
    "sqr = lambda x: h(x)+sin(x)\n",
    "\n",
    "test = [ sqr(i) for i in args ]\n",
    "\n",
    "for i in range(100):\n",
    "    assert(classicSqr[i] == test[i])"
   ]
  },
  {
   "cell_type": "markdown",
   "id": "34c4abae",
   "metadata": {},
   "source": [
    "<h2>Optimize series with arithmetic progression properties</h2>\n",
    "\n",
    "Let's check up and analyze our squaring function on some odd and even numbers as examples.\n",
    "\n",
    "**Example. 1.1**\n",
    "\n",
    "Put even number _12_ as example to our squaring function:\n",
    "\n",
    "$$ f(12) = 4 \\left[ \\sum \\limits _{i=1} ^{ \\lfloor 12/2 \\rfloor} (2i-1) \\right] + (2*12-1)*sin(12\\pi) = 4*(1+3+5+7+9+11) + 0 =4*36=12^2=144 $$\n",
    "\n",
    "**Example. 1.2**\n",
    "\n",
    "Put odd number _13_ as example to our squaring function:\n",
    "\n",
    "$$ f(13) = 4 \\left[ \\sum \\limits _{i=1} ^{ \\lfloor 13/2 \\rfloor } (2i-1) \\right] + (2x-1)*sin(13\\pi) = 4 \\left[ \\sum \\limits _{i=1} ^{6} (2i-1) \\right] + 2x-1 = 4*(1+3+5+7+9+11) + (2*13-1) = 144 + 25 = 13^2 = 169 $$\n",
    "\n",
    "And note that is an *ariphmetic progression* under sum operator. We can see, that sum of ours every first and last is constant:\n",
    "\n",
    "$$ 1 + 11 = 12 $$\n",
    "$$ 3 + 9 = 12 $$\n",
    "$$ 5 + 7 = 12 $$\n",
    "$$ (2i-1) + (x - (2i - 1)) = x $$\n",
    "\n",
    "Let's overview series under sum operator and write it as _h(x)_: \n",
    "\n",
    "$$ h(x) = \\sum \\limits _{i=1}^{\\lfloor x/4 \\rfloor} (2i-1 + x - (2i-1)) = \\sum \\limits _{i=1, x_{i}=x} ^{\\lfloor x/4 \\rfloor} x_{i} $$\n",
    "\n",
    "If $ \\lfloor \\frac{x}{2} \\rfloor $ is odd then number of elemnts in _h(x)_ is also odd. In that case additional _x_ should be added. Express such condition with function _t(x)_:\n",
    "\n",
    "$$ t(x) =\n",
    "\\begin{cases}\n",
    "x, \\lfloor \\frac{x}{2} \\rfloor = 2k+1\n",
    "\\\\\n",
    "0, \\lfloor \\frac{x}{2} \\rfloor = 2k\n",
    "\\\\\n",
    "k \\in N\n",
    "\\end{cases}\n",
    "$$\n",
    "\n",
    "In other words:\n",
    "\n",
    "$$ t(x) = x*sin(\\pi \\lfloor \\frac{x}{2} \\rfloor) $$\n",
    "\n",
    "The our formula will looks like:\n",
    "\n",
    "$$ f(x) = 4 \\left[ h(x) + t(x) \\right] + r(x) = 4 \\left[ \\sum \\limits _{i=1, x_{i}=x} ^{\\lfloor x/4 \\rfloor} (x_{i}) + x*sin(\\pi \\lfloor \\frac{x}{2} \\rfloor) \\right] + (2x-1)*sin(\\pi x) $$\n",
    "\n",
    "**Algorithmic complexity**. So we reduced number of additions again for our $ f(x) $ which results into $ O = O(\\lfloor \\frac{n}{4} \\rfloor) $ "
   ]
  },
  {
   "cell_type": "code",
   "execution_count": 37,
   "id": "baf394f9",
   "metadata": {},
   "outputs": [
    {
     "name": "stdout",
     "output_type": "stream",
     "text": [
      "16 0\n"
     ]
    },
    {
     "ename": "AssertionError",
     "evalue": "",
     "output_type": "error",
     "traceback": [
      "\u001b[0;31m---------------------------------------------------------------------------\u001b[0m",
      "\u001b[0;31mAssertionError\u001b[0m                            Traceback (most recent call last)",
      "Input \u001b[0;32mIn [37]\u001b[0m, in \u001b[0;36m<module>\u001b[0;34m\u001b[0m\n\u001b[1;32m     15\u001b[0m \u001b[38;5;28;01mfor\u001b[39;00m i \u001b[38;5;129;01min\u001b[39;00m \u001b[38;5;28mrange\u001b[39m(\u001b[38;5;241m100\u001b[39m):\n\u001b[1;32m     16\u001b[0m     \u001b[38;5;28mprint\u001b[39m(classicSqr[i], test[i])\n\u001b[0;32m---> 17\u001b[0m     \u001b[38;5;28;01massert\u001b[39;00m(classicSqr[i] \u001b[38;5;241m==\u001b[39m test[i])\n",
      "\u001b[0;31mAssertionError\u001b[0m: "
     ]
    }
   ],
   "source": [
    "args = [ i for i in range(4, 100) ] \n",
    "\n",
    "classicSqr = [ i**2 for i in args ]\n",
    "\n",
    "h = lambda x: sum( [ i for i in range(1, (x+2)//4) ] )\n",
    "\n",
    "r = lambda x: (2*x-1)*(x % 2)\n",
    "\n",
    "t = lambda x: x*((x//2) % 2)\n",
    "\n",
    "sqr = lambda x: 4*(h(x)+t(x))+r(x)\n",
    "\n",
    "test = [ sqr(i) for i in args ]\n",
    "\n",
    "for i in range(100):\n",
    "    print(classicSqr[i], test[i])\n",
    "    assert(classicSqr[i] == test[i])"
   ]
  },
  {
   "cell_type": "markdown",
   "id": "a2914573",
   "metadata": {},
   "source": [
    "<h2>Apply divide and conquer strategy</h2>\n",
    "\n",
    "We could moving further and found one more optimization by founding doubling pattern which is simplie for computation. At that point we migth apply divide and conquer startegy to reduce additions logarithmically. Instead of adding _x_ with itself _x/4_ times we might to double _x_ each time up to $ \\lfloor x/4 \\rfloor $. It will give us $ \\lfloor \\log_2{x/4} \\rfloor $ doubling operations. Let's take a closer look to _h(x)_:\n",
    "\n",
    "$$ h(x) = \\sum \\limits _{i=1, x_{i}=x} ^{\\lfloor x/4 \\rfloor} x_{i} = x_{1}+x_{2}+x_{3}+...+x_{i}+x_{x/4} = 2x_{1} + 2x_{3} + x_{5}+..+2x_{\\rfloor x/4-1 \\rfloor} = 2^{\\log_{2}(x/4)}*x + \\sum \\limits _{i=1, x_{i}=x} ^{\\lfloor x/4 - \\log_{2}{(x/4)} \\rfloor} x_{i} $$\n",
    "\n",
    "Put:\n",
    "\n",
    "$$ s(x) = 2^{\\log2(x/4)}*x $$\n",
    "\n",
    "Also:\n",
    "\n",
    "$$ p(x) = \\sum \\limits _{i=1, x_{i}=x} ^{\\lfloor x/4 - \\log_{2}{x/4} \\rfloor} x_{i} $$\n",
    "\n",
    "So improved formula will looks like:\n",
    "\n",
    "$$ f(x) = 4 \\left[ s(x)+p(x)+t(x) \\right] + r(x) $$\n",
    "\n",
    "By substitution we get:\n",
    "\n",
    "$$ f(x) = 4 \\left[ 2^{\\lfloor \\log_2(x/4) \\rfloor}x + \\sum \\limits _{i=1}^{\\lfloor x/4 \\rfloor - \\lfloor\\log_2(x/4)\\rfloor} x_{i} + x*sin(\\pi \\lfloor \\frac{x}{2} \\rfloor)\\right] + (2x-1)*sin(\\pi x) $$\n",
    "\n",
    "**Algorithmic complexity**. At the last point we have reduced complexity drasticaly. We split algorithm to the two sums one of which iterates over powers of 2 inside number. The second sum iterates just $ m=n - 2^{\\lfloor\\log_{2}n\\rfloor/4} $ times. So complexity resulting into:\n",
    "\n",
    "$$ O = O(\\frac{n}{4}-2^{\\lfloor\\log_{2}{n/4}\\rfloor}) = O(\\frac{n}{4}-2^{\\lfloor\\log_{2}{n/4}\\rfloor}) $$"
   ]
  },
  {
   "cell_type": "code",
   "execution_count": 32,
   "id": "0fd3d1a8",
   "metadata": {},
   "outputs": [
    {
     "name": "stdout",
     "output_type": "stream",
     "text": [
      "4 8\n"
     ]
    },
    {
     "ename": "AssertionError",
     "evalue": "",
     "output_type": "error",
     "traceback": [
      "\u001b[0;31m---------------------------------------------------------------------------\u001b[0m",
      "\u001b[0;31mAssertionError\u001b[0m                            Traceback (most recent call last)",
      "Input \u001b[0;32mIn [32]\u001b[0m, in \u001b[0;36m<module>\u001b[0;34m\u001b[0m\n\u001b[1;32m     17\u001b[0m \u001b[38;5;28;01mfor\u001b[39;00m i \u001b[38;5;129;01min\u001b[39;00m \u001b[38;5;28mrange\u001b[39m(\u001b[38;5;28mlen\u001b[39m(test)):\n\u001b[1;32m     18\u001b[0m     \u001b[38;5;28mprint\u001b[39m(classicSqr[i], test[i])\n\u001b[0;32m---> 19\u001b[0m     \u001b[38;5;28;01massert\u001b[39;00m(classicSqr[i] \u001b[38;5;241m==\u001b[39m test[i])\n",
      "\u001b[0;31mAssertionError\u001b[0m: "
     ]
    }
   ],
   "source": [
    "args = [ i for i in range(2,100) ] \n",
    "\n",
    "classicSqr = [ i**2 for i in args ]\n",
    "\n",
    "bit_length = lambda x: int(x).bit_length()\n",
    "\n",
    "s = lambda x: (2**(bit_length(x)//4)) * x\n",
    "\n",
    "l = lambda x: sum( [ 2*i-1 for i in range( (bit_length(x)//4)+1, (x+2)//4) ] )\n",
    "\n",
    "r = lambda x: (x % 2)*(2*x-1)\n",
    "\n",
    "sqr = lambda x: 4*(s(x)+l(x))+r(x)\n",
    "\n",
    "test = [ sqr(i) for i in args ]\n",
    "\n",
    "for i in range(len(test)):\n",
    "    print(classicSqr[i], test[i])\n",
    "    assert(classicSqr[i] == test[i])    "
   ]
  },
  {
   "cell_type": "markdown",
   "id": "252eaceb",
   "metadata": {},
   "source": [
    "<h2>Expanding spiral pattern for cube</h2>\n",
    "\n",
    "We may expand spiral pattern analagously to get qube. So, we get the area side of 3rd cube by squaring _x_. But for case of 3rd power we will continue to twist our square in spiral like a towel. We will got the same pattern.\n",
    "\n",
    "$$ x^3 = f_{even}(x,3) = \\sum \\limits _{i=1} ^{x/2}  (2x^{2}-x) $$"
   ]
  },
  {
   "cell_type": "code",
   "execution_count": 33,
   "id": "b15a4f73",
   "metadata": {
    "scrolled": false
   },
   "outputs": [],
   "source": [
    "\n"
   ]
  },
  {
   "cell_type": "markdown",
   "id": "4dc4f132",
   "metadata": {},
   "source": [
    "<h2>Expanding spiral pattern for arbitrary power</h2>\n",
    "\n",
    "Put _a_ is a parameter to express arbitrary $ x^a = f(x, a) $.\n",
    "\n",
    "$$ x^a = f(x, a) = \\sum \\limits _{i=1} ^{x/2}f(x, a-i) $$\n",
    "\n",
    "<h2>Binar power optimization</h2>"
   ]
  },
  {
   "cell_type": "code",
   "execution_count": null,
   "id": "d63de257",
   "metadata": {
    "scrolled": true
   },
   "outputs": [],
   "source": []
  }
 ],
 "metadata": {
  "kernelspec": {
   "display_name": "Python 3 (ipykernel)",
   "language": "python",
   "name": "python3"
  },
  "language_info": {
   "codemirror_mode": {
    "name": "ipython",
    "version": 3
   },
   "file_extension": ".py",
   "mimetype": "text/x-python",
   "name": "python",
   "nbconvert_exporter": "python",
   "pygments_lexer": "ipython3",
   "version": "3.8.10"
  }
 },
 "nbformat": 4,
 "nbformat_minor": 5
}
