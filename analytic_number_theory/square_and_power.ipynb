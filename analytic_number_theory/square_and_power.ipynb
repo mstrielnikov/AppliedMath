{
 "cells": [
  {
   "cell_type": "markdown",
   "id": "f6ee2ef1",
   "metadata": {},
   "source": [
    "<h1 align=\"center\">Optimization of square and power for natural numbers</h1>\n",
    "\n",
    "<h2>Regular squaring</h2>\n",
    "\n",
    "Trivial square formulae is a well known for the most fields. It is often represented as a trivial multiplication of element by itself:\n",
    "\n",
    "$$ x^2 = x \\circ x $$\n",
    "\n",
    "Multiplication is often a **combination** for descrete elements. It is easy to see for rectangle on fig. 1. In our case length and with are the same value _x_."
   ]
  },
  {
   "cell_type": "markdown",
   "id": "7e72fd8d",
   "metadata": {},
   "source": [
    "$$ Fig 1 $$"
   ]
  },
  {
   "cell_type": "markdown",
   "id": "738bf894",
   "metadata": {},
   "source": [
    "**Algorithmic complexity**. So, we put _n_ as a length of the number _x_, then squaring will require $O(n^2)$ of elementary one digit summations.\n",
    "\n",
    "<h2>Squaring number geometrically by filling square with repeatable pattern</h2>\n",
    "\n",
    "We could enable geometric intuintion and represent squaring not a **combination** but in way of repeatable **pattern filling**. We may fill square with some angle-like pattern which decreases while going from one corner to another diagonally (fig. 2). "
   ]
  },
  {
   "cell_type": "markdown",
   "id": "635f9d7e",
   "metadata": {},
   "source": [
    "$$ Fig 2 $$"
   ]
  },
  {
   "cell_type": "markdown",
   "id": "811a8adb",
   "metadata": {},
   "source": [
    "So we have length and width which is equal _2n_ but angled elementary square should be included just once, so we get length _2n-1_ for one angled pattern. We are going to repeat the pattern and get following sum:\n",
    "\n",
    "$$ f(x) = \\sum \\limits _{i=1} ^{x} (2i-1) = x^2 $$\n",
    "\n",
    "The formulae we get is reccurent so it the same as:\n",
    "\n",
    "$$ f_{i+1} = f_{i}+2, i \\in [ 1; x ] $$\n",
    "\n",
    "**Algorithmic complexity**. So, we got sufficient optimization. We just need to reuse previous result by adding 2 _n_-times which is $ n*O(1) \\rightarrow O(n) $ complexity operation.\n",
    "\n",
    "<h2>Squaring number geometrically by traversing square in spiral like pattern</h2>\n",
    "\n",
    "Imagine square computation as traversing a square by spiral without self intersections (fig. 3)."
   ]
  },
  {
   "cell_type": "markdown",
   "id": "4346660a",
   "metadata": {},
   "source": [
    "$$ Fig 3 $$"
   ]
  },
  {
   "cell_type": "markdown",
   "id": "f919effa",
   "metadata": {},
   "source": [
    "But, for square with odd length _x_ it will resulting to square _x-1_ with correction by two addtional sides (Fig 4)."
   ]
  },
  {
   "cell_type": "markdown",
   "id": "2a355887",
   "metadata": {},
   "source": [
    "$$ Fig 4 $$"
   ]
  },
  {
   "cell_type": "markdown",
   "id": "305127bd",
   "metadata": {},
   "source": [
    "Put _x_ as even.\n",
    "\n",
    "$$ f_{even}(x) = \\sum \\limits _{i=1} ^{x/2} (8i-4)  $$\n",
    "\n",
    "After simplyfying we got: \n",
    "\n",
    "$$ f_{even}(x) = 4 \\sum \\limits _{i=1} ^{x/2} (2i-1)  $$\n",
    "\n",
    "In case _x_ is odd, we will get:\n",
    "\n",
    "$$ f_{odd}(x) = 4 (\\sum \\limits _{i=1} ^\\frac{x-1}{2} 2i-1) + 2x-1 $$\n",
    "\n",
    "Let's write odd residue as _r(x) = 2x-1_, then sum up our algorithm:\n",
    "\n",
    "$$\n",
    "x^2=\n",
    "\\begin{cases}\n",
    "f_{even}(x), 2 \\mid x,\n",
    "\\\\\n",
    "f_{even}(x-1) + r(x), 2 \\nmid x\n",
    "\\end{cases}\n",
    "$$\n",
    "\n",
    "**Algorithmic complexity**. So we iterate just over odd numbers and using the half of this sequence which reduces addtions 4 times. Also we use symmetricy property of rectangle, so we compute just 4th part of square, which requires multiply result by 4. We could interpre multiplication by 4 as 2 bit left shifts which is O(1) taken 2 times. So complexity equals to $ 2*O(1)*O(\\frac{n}{4}) = O(\\frac{n}{2}) $\n",
    "\n",
    "<h2>Sequence optimizarion using progression</h2>\n",
    "\n",
    "Let's check up and analyze our squaring function on some odd ane even numbers as examples.\n",
    "\n",
    "**Example. 1.1**\n",
    "\n",
    "Put _12_ as example to our squaring function for even numbers:\n",
    "\n",
    "$$ f(12) = f_{even}(12) = 4 \\sum \\limits _{i=1} ^{6} (2i-1) = 4(1+3+5+7+9+11)=4*36=12^2=144 $$\n",
    "\n",
    "**Example. 1.2**\n",
    "\n",
    "Put _13_ as example to our squaring function for odd numbers:\n",
    "\n",
    "$$ f(13) = f_{even}(12) + r(13) = (4 \\sum \\limits _{i=1} ^{6} (2i-1)) + (2*x-1) = 4(1+3+5+7+9+11) + (2*13-1) = 144 + 25 = 13^2 = 169 $$\n",
    "\n",
    "\n",
    "And note that it is an *ariphmetic progression* under sum operator. We can see, that sum of ours every first and last is constant:\n",
    "\n",
    "$$ 1 + 11 = 12 $$\n",
    "$$ 3 + 9 = 12 $$\n",
    "$$ 5 + 7 = 12 $$\n",
    "$$ (2i-1) + (x - (2i - 1)) = x $$\n",
    "\n",
    "So, sequence length becomes 2 times shorter and elemets are the same:\n",
    "\n",
    "$$ f_{even}(x) = 4 \\sum \\limits _{i=1} ^\\frac{x}{2} (2i-1) = 4 \\sum \\limits _{i=1} ^\\frac{x}{4} (2i-1 + x - (2i-1)) = 4 \\sum \\limits _{i=1, x_{i}=x} ^\\frac{x}{4} x_{i} $$\n",
    "\n",
    "**Algorithmic complexity**. So we got one more optimisation for our $ f_{even}(x) $ which results into $ O(\\frac{n}{4}) $ \n",
    "\n",
    "**Proof**. As a little bonus, the algorithm correctness follows automatically at this point as follows\n",
    "\n",
    "$$ x^2 = 4 \\sum \\limits _{i=1, x_{i}=x} ^\\frac{x}{4} x_{i} = 4 * \\frac{x}{4} * x $$\n",
    "\n",
    "But we could moving further and found one more optimization by founding doubling pattern which is simplier for computation.\n",
    "\n",
    "Let's memorize the last result and expand it:\n",
    "\n",
    "$$ f_{even}(x) = 4 \\sum \\limits _{i=1, x_{i}=x} ^\\frac{x}{4} x_{i} = 4 (x_{1}+x_{2}+x_{3}+...+x_{i}) $$\n",
    "\n",
    "Remember then all elements are the same $ x_{m}=x_{n} $ for any $ m,n \\in [1;x], m \\neq n $\n",
    "\n",
    "Then rewrite series under sum operator from _f(x)_ as a **reccurent** sequence $ s(t) $, where s_{k} is a sum of doubling element _t_ up _k_ times and define as:\n",
    "\n",
    "$$ s_{1} = t $$\n",
    "$$ s_{2} = s_{1} + s_{1} = 2t $$\n",
    "$$ s_{4} = s_{2} + s_{2} = 4t $$\n",
    "$$ s_{2^k} = s_{2^{k/2}} * 2 $$\n",
    "\n",
    "So we get following series:\n",
    "\n",
    "$$ s(t) = t + \\sum \\limits _{2 \\mid k, k>=2} ^{\\lfloor\\log_{2}t\\rfloor} (t+s_{k-1}) $$\n",
    "\n",
    "So we can express our original $ f(x)_{even} $ with:\n",
    "\n",
    "$$ f(x)_{even} = 4(s(\\frac{x}{4}) + l(\\frac{x}{4})) $$\n",
    "\n",
    "$$ \\to l(x) = f(x)_{even} - s(x)  $$\n",
    "\n",
    "$$ \\to l(x) = \\sum \\limits _{i=\\lfloor\\log_{2}x\\rfloor+1}^x (2i-1) $$\n",
    "\n",
    "So improved formula will looks like:\n",
    "\n",
    "$$ f(x)_{even} = 4(x + \\sum \\limits _{2 \\mid i, i>=2} ^{\\frac{\\lfloor\\log_{2}x\\rfloor}{4}} (x+s_{i-1}) + \\sum \\limits _{i=\\lfloor\\log_{2}x\\rfloor+1}^{\\frac{x}{4}} (2i-1)) $$\n",
    "\n",
    "**Algorithmic complexity**. At the last point we have reduced complexity drasticaly. We split algorithm to the two sums one of which iterates over powers of 2 inside number. The second sum iterates just $ m=n - 2^{\\frac{\\lfloor\\log_{2}n\\rfloor}{4}} $ times. So complexity resulting into:\n",
    "\n",
    "$$ O(n) = O(\\lfloor\\log_{2}{\\frac{n}{4}}\\rfloor) + O(\\frac{n}{4}-2^{\\lfloor\\log_{2}{\\frac{n}{4}}\\rfloor}) $$\n",
    "\n",
    "\n",
    "\n",
    "\n",
    "<h2>Expanding spiral pattern for cube</h2>\n",
    "\n",
    "\n",
    "<h2>Expanding spiral pattern for arbitrary power</h2>\n",
    "\n",
    "\n",
    "<h2>Binar power optimization</h2>"
   ]
  },
  {
   "cell_type": "code",
   "execution_count": null,
   "id": "39c49c5a",
   "metadata": {},
   "outputs": [],
   "source": []
  }
 ],
 "metadata": {
  "kernelspec": {
   "display_name": "Python 3 (ipykernel)",
   "language": "python",
   "name": "python3"
  },
  "language_info": {
   "codemirror_mode": {
    "name": "ipython",
    "version": 3
   },
   "file_extension": ".py",
   "mimetype": "text/x-python",
   "name": "python",
   "nbconvert_exporter": "python",
   "pygments_lexer": "ipython3",
   "version": "3.8.10"
  }
 },
 "nbformat": 4,
 "nbformat_minor": 5
}
