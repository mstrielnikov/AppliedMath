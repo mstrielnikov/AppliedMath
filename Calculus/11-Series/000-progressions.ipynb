{
 "cells": [
  {
   "cell_type": "markdown",
   "id": "356c9522",
   "metadata": {},
   "source": [
    "<h1 align=\"center\">Progressions</h1>\n",
    "\n"
   ]
  },
  {
   "cell_type": "markdown",
   "id": "9c874c5b",
   "metadata": {},
   "source": [
    "<h2> Arithmetic progression</h2>\n",
    "\n"
   ]
  },
  {
   "cell_type": "markdown",
   "id": "9c874c5b",
   "metadata": {},
   "source": [
    "The _n_-th member of progression:\n",
    "$$ a_{n} = a_{1} + d(n - 1) $$\n"
   ]
  },
  {
   "cell_type": "markdown",
   "id": "9c874c5b",
   "metadata": {},
   "source": [
    "The _n_-th member of progression:\n",
    "$$ a_{n} = a_{1} + d(n - m) $$"
   ]
  },
  {
   "cell_type": "markdown",
   "id": "9c874c5b",
   "metadata": {},
   "source": [
    "Difference of progression:\n",
    "$$ d = a_{n+1} - a_{n} $$"
   ]
  },
  {
   "cell_type": "markdown",
   "id": "9c874c5b",
   "metadata": {},
   "source": [
    "Sum of _n_ terms of arithmetic progression:\n",
    "\n",
    "$$ S = \\sum \\limits _{i=1} ^{n} a_{i} = \\frac{n(a_{n} + a_{1})}{2} $$\n",
    "\n",
    "Or:\n",
    "\n",
    "$$ S = \\frac{n}{2}[2a_{1} + d(n - 1)] $$"
   ]
  },
  {
   "cell_type": "markdown",
   "id": "9c874c5b",
   "metadata": {},
   "source": [
    "<h2> Geometric progression</h2>\n",
    "\n"
   ]
  },
  {
   "cell_type": "markdown",
   "id": "9c874c5b",
   "metadata": {},
   "source": [
    "Geometric progression sum:\n",
    "$$ \\sum \\limits _{k=0} ^{n} ar^{k-1} = ar^{0} + ar^{1} + ar^{2} + ... + ar^{n-1} =  \\frac{a(1 - r^{n})}{1 - r} $$"
   ]
  },
  {
   "cell_type": "markdown",
   "id": "1a1bd6ae",
   "metadata": {},
   "source": [
    "If started from another value _m_:\n",
    "$$ \\sum \\limits _{k=m} ^{n} ar^{k} = \\frac{a(r^{m} - r^{n+1})}{1 - r} $$\n"
   ]
  },
  {
   "cell_type": "markdown",
   "id": "9c874c5b",
   "metadata": {},
   "source": [
    "The _n_-th member of progression:\n",
    "$$ a_{n} = a_{1} + d(n - m) $$"
   ]
  },
  {
   "cell_type": "markdown",
   "id": "9c874c5b",
   "metadata": {},
   "source": [
    "Difference of progression:\n",
    "$$ d = a_{n+1} - a_{n} $$"
   ]
  }
 ],
 "metadata": {
  "kernelspec": {
   "display_name": "Python 3 (ipykernel)",
   "language": "python",
   "name": "python3"
  },
  "language_info": {
   "codemirror_mode": {
    "name": "ipython",
    "version": 3
   },
   "file_extension": ".py",
   "mimetype": "text/x-python",
   "name": "python",
   "nbconvert_exporter": "python",
   "pygments_lexer": "ipython3",
   "version": "3.8.10"
  }
 },
 "nbformat": 4,
 "nbformat_minor": 5
}
