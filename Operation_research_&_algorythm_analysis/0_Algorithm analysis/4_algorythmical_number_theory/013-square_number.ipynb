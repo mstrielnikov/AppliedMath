{
 "cells": [
  {
   "attachments": {},
   "cell_type": "markdown",
   "id": "f6ee2ef1",
   "metadata": {},
   "source": [
    "<h1 align=\"center\">Optimization squaring natural number</h1>\n",
    "\n",
    "<h2>0. Statements</h2>\n",
    "\n",
    "1. Only set of natural numbers _N_ is researched\n",
    "2. Binary number system in mind\n",
    "\n",
    "So bit length of the any number _x_ is:\n",
    "\n",
    "$$ n = \\lceil \\log_{2} x \\rceil $$\n",
    "\n",
    "<h2>1.1 Regular squaring</h2>\n",
    "\n",
    "Trivial square formulae is obvious enough for natural numbers. It is often represented as a trivial multiplication of element by itself:\n",
    "\n",
    "$$ x^2 = x * x $$\n",
    "\n",
    "**Algorithmic complexity**. So, we put _n_ as a length of the number _x_, then squaring will require $O(n^2)$ of elementary one digit summations and $O(n^2)$ space complexity.\n",
    "\n",
    "<h2>1.2 Squaring by summation with itself</h2>\n",
    "\n",
    "We could think that square of _x_ is  sum of _x_ with itself _x_ times:\n",
    "\n",
    "$$ x^2 = \\sum \\limits _{i=1} ^{x} x $$\n",
    "\n",
    "The complexity of such representation is not changed but allows us to apply *double and add* trick optimization. \n",
    "\n",
    "$$ x^2 = \\sum \\limits _{i=1} ^{n} 2^{i}x $$\n",
    "\n",
    "It is easy to see that current approach is closely related with numbers' representation in binary form.\n",
    "Put $ x_{bin} $ as number in binary  system, _N_ number of digits in binary representation, $ b_{i} $ is every single bit.\n",
    "Then any number could be written as series:\n",
    "\n",
    "$$ x_{bin} = \\sum \\limits _{i=1} ^{n} (2^{i}*b_{i}) $$\n",
    "\n",
    "So, to square any number _x_ we need double _x_ for every $ b_{i} $ bit equals *0* then double and add _x_ for every $ b_{i} $ bit equals *1*.\n",
    "We could write down that condition for each bit on every _i_-th iteration step as $ s_{i} $:\n",
    "\n",
    "$$ s_{i} = 2^{i}x+ x*sin(b_{i}\\pi) $$\n",
    "\n",
    "Note the following:\n",
    "\n",
    "$$ b_{i} \\in \\{0,1\\} \\to sin(b_{i}\\pi) \\in \\{0,1\\} $$\n",
    "\n",
    "So squaring formula will looks like:\n",
    "\n",
    "$$ x^2 = \\sum \\limits _{i=1} ^{n} s_{i} = \\sum \\limits _{i=1} ^{n} (2^{i}x + x*sin(b_{i}\\pi)) $$\n",
    "\n",
    "Example 1.1\n",
    "\n",
    "___________________________________________________________\n",
    "\n",
    "13_{10} = 1011_{2}\n",
    "\n",
    "------------------------------------------------\n",
    "|    |  1st   |  2st    |  3st     |    4st    |\n",
    "|----|--------|---------|----------|-----------|\n",
    "|8x  |  1011  |  10110  |          |           |\n",
    "|    |  1011  |         |          |           |\n",
    "|    |--------|         |  10110   |           |\n",
    "|    |  1011  |  10110  |          |           |\n",
    "|    |  1011  |         |          |           |\n",
    "|    |--------|---------|----------|  1011000  |\n",
    "|    |  1011  |  10110  |          |           |\n",
    "|    |  1011  |         |          |           |\n",
    "|    |--------|         |  101100  |           |\n",
    "|    |  1011  |  10110  |          |           |\n",
    "|    |  1011  |         |          |           |\n",
    "------------------------------------------------\n",
    "\\+  \n",
    "\n",
    "--------------------------------------\n",
    "|4x  |  1011   |  10110  |  101100   |\n",
    "|    |  1011   |         |           |\n",
    "|------------------------|           |\n",
    "|    |  1011   |  10110  |           |\n",
    "|    |  1011   |         |           |\n",
    "--------------------------------------\n",
    "\\+\n",
    "\n",
    "1x    1011\n",
    "\n",
    "________________________________________________\n",
    "\n",
    "           1           1         0        1\n",
    "\n",
    "(((1011*2 + 1011) * 2 + 1011 ) * 2 ) * 2 + 1011\n",
    "\n",
    "( 0100001 * 2 + 1011 ) * 2 ) * 2 + 1011\n",
    "\n",
    "( 01001101 * 2 ) * 2 + 1011 \n",
    "\n",
    "010011010 + 1011 \n",
    "\n",
    "______________________________________________\n",
    "\n",
    "**Algorithmic complexity**. We see that complexity consists from numbers of doublings $ (N_{doubles}) $ and addtion of _x_ $ (N_{adds}) $. Note that number of doublings $ (N_{doubles}) $ is always equals $ n $. Addtion number in algorithm is equals to number of non-zero bits which could be $ n $ times for the worst case or _0_ in the best one. Also additions could return numbers with one more carry digit which will increase number length to one digit for the next iteration. The number of carry bits ($ N_{carry} $) cannot be bigger then $ n $ - times also. So we have total number of operations as:\n",
    "\n",
    "$$ O_{space} = 2n $$\n",
    "\n",
    "$$ O _{time} = n^{2} $$"
   ]
  },
  {
   "cell_type": "code",
   "execution_count": null,
   "id": "dbcfbffc",
   "metadata": {},
   "outputs": [],
   "source": []
  },
  {
   "cell_type": "markdown",
   "id": "86185a66",
   "metadata": {},
   "source": [
    "<h2>2.1 Square operation as a sequence</h2>\n",
    "\n",
    "Let's overview sequense of squares $ k_{x} $ and find the pattern:\n",
    "\n",
    "$$ k_{1} = 1^2 = 1 $$\n",
    "$$ k_{2} = 2^2 = 1+3 = 4 $$\n",
    "$$ k_{3} = 3^2 = 1+3+5 = 9 $$\n",
    "$$ k_{4} = 4^2 = 1+3+5+7 = 16 $$\n",
    "$$ k_{i} = k_{i}^{2} = k_{i-1}+2i-1 $$\n",
    "$$ k_{x} = x^2 = k_{x-1}+2x-1 $$\n",
    "\n",
    "So represent the sequence below as a series:\n",
    "\n",
    "$$ x^2 = \\sum \\limits _{i=1} ^{x} (2i-1) \\iff x^2 = 2 \\sum \\limits _{i=1} ^{x} i - x = 2 \\sum \\limits _{i=1} ^{x-1} i + 2x - 1 - x = 2 \\sum \\limits _{i=1} ^{x-1} i + x - 1 $$\n",
    "\n",
    "$$ \\sum \\limits _{i=1} ^{x-1} i = 1 + 2 + 3 + 4 ... + x - 1 = \\frac{(x - 1)(x - 1 - 1)}{2} = \\frac{x^2 - x - 2x + 2}{2} = \\frac{x^2 - 3x - 2}{2} $$\n",
    "\n",
    "$$ \\therefore x^2 = 2 \\sum \\limits _{i=1} ^{x-1} i + x - 1 = \\frac{2(x^2 - 3x - 2)}{2} + x - 1 = x^2 - 3x + x - 2 - 1 = x^2 - 2x - 3 $$\n"
   ]
  },
  {
   "cell_type": "markdown",
   "id": "8f469f06",
   "metadata": {},
   "source": [
    "\n",
    "**Algorythmic complexity**. So, we got sufficient optimization. We just need to reuse previous result by adding 1 costs $ O(1) $ and done $ (x-1) $-times. Doubling at the end is O(n) opearation. That result us with complexity:\n",
    "\n",
    "$$ O_{time} = n^{2} $$\n",
    "\n",
    "$$ O_{space} = 2 $$\n",
    "\n",
    "\n",
    "<h2>2.2 Square operation as a sequence with matrix</h2>\n",
    "\n",
    "$$ k_{i+1} = 2k_{i} + 2 $$\n",
    "\n",
    "\n",
    "\n",
    "Optimize with Phibonacci series\n"
   ]
  },
  {
   "cell_type": "markdown",
   "id": "6282503f",
   "metadata": {},
   "source": [
    "<h3>3. Squaring using geometrical intuition</h3>\n",
    "\n",
    "Multiplication is often a **combination** for descrete elements. It is easy to see for rectangle on fig. 1. In our case length and with are the same value _x_. We will show the same thing geometrically. In that squaring operation represented as a repeatable **pattern filling** of the square. We may fill square with some angle-like pattern which decreases while going from one corner to another diagonally (fig. 1)."
   ]
  },
  {
   "cell_type": "markdown",
   "id": "61060a6d",
   "metadata": {},
   "source": [
    "$$ Fig 1 $$"
   ]
  },
  {
   "cell_type": "markdown",
   "id": "4346660a",
   "metadata": {},
   "source": [
    "We can find a symmetry within that pattern and reduce number of addtions. Any square of even number is divisible by 4 (Fig. 2)."
   ]
  },
  {
   "cell_type": "markdown",
   "id": "fbd6f83f",
   "metadata": {},
   "source": [
    "$$ Fig2 $$"
   ]
  },
  {
   "cell_type": "markdown",
   "id": "1780d66a",
   "metadata": {},
   "source": [
    "Let's put _x_ as even and got:\n",
    "\n",
    "$$ x^2 = f_{even}(x) = 4 \\sum \\limits _{i=2} ^{x/2} (2i-1) $$\n",
    "\n",
    "It is easy to see for square with odd length _x_: \n",
    "\n",
    "$$ f_{odd}(x) = f_{even}(x-1) + 2x-1 \\to f_{odd}(x) = 4 \\left[ \\sum \\limits _{i=1} ^{\\frac{x-1}{2}} (2i-1) \\right] + 2x-1 = 4 \\left[ \\sum \\limits _{i=1} ^{\\lfloor x/2 \\rfloor} (2i-1) \\right] + 2x-1 $$"
   ]
  },
  {
   "cell_type": "markdown",
   "id": "ea0585ec",
   "metadata": {},
   "source": [
    "Let's think that $ 2x-1 $ is a residue only if _x_ is odd. So we can express this condition as follwoing:\n",
    "\n",
    "$$\n",
    "sin(\\pi x)=\n",
    "\\begin{cases}\n",
    "0, x = 2k,\n",
    "\\\\\n",
    "1, x = 2k+1,\n",
    "\\\\\n",
    "k \\in N\n",
    "\\end{cases}\n",
    "$$ \n",
    "\n",
    "Sum up:\n",
    "\n",
    "$$ x^2 = 4 \\sum \\limits _{i=1} ^{\\lfloor x/2 \\rfloor } (2i-1) + (2x-1)*sin(\\pi x) $$\n",
    "\n",
    "So we could remember result from chapter 1.2 and found reccurent inside our improved formula:\n",
    "\n",
    "$$ x^2 = 4 \\sum \\limits _{i=1} ^{\\lfloor x/2 \\rfloor } (2i-1) + (2x-1)*sin(\\pi x) $$\n",
    "\n",
    "$$ x^2 = 1 + 4 \\sum \\limits _{i=2,k_{1}=1} ^{\\lfloor x/2 \\rfloor} (k_{i-1} + 2) + (2x-1)*sin(\\pi x) $$\n",
    "\n",
    "\n",
    "**Algorithmic complexity**. So we iterate just over odd numbers up to $ \\frac{x}{2} $ which reduces addtions 2 times. Also we use symmetricy property of rectangle, so we compute just 1/4th part of square, which requires multiply result by 4. We could interpret multiplication by 4 as 2 bit left shifts which is O(1) taken 2 times. So complexity equals to $ O = \\frac{n}{4} + O(1) $"
   ]
  },
  {
   "cell_type": "code",
   "execution_count": 34,
   "id": "410eee52",
   "metadata": {},
   "outputs": [],
   "source": [
    "args = [ i for i in range(100) ] \n",
    "\n",
    "classicSqr = [ i**2 for i in args ]\n",
    "\n",
    "h = lambda x: 4*sum( [ 2*i-1 for i in range(1, (x+2)//2) ] )\n",
    "\n",
    "sin = lambda x: (x % 2)*(2*x-1)\n",
    "\n",
    "sqr = lambda x: h(x)+sin(x)\n",
    "\n",
    "test = [ sqr(i) for i in args ]\n",
    "\n",
    "for i in range(100):\n",
    "    assert(classicSqr[i] == test[i])"
   ]
  },
  {
   "cell_type": "markdown",
   "id": "322c9029",
   "metadata": {},
   "source": [
    "<h2>6. Square with Karatsuba multiplication </h2>"
   ]
  },
  {
   "cell_type": "markdown",
   "id": "d16fba94",
   "metadata": {},
   "source": [
    "<h2>7. Square with convolution theory</h2>"
   ]
  },
  {
   "cell_type": "markdown",
   "id": "252eaceb",
   "metadata": {},
   "source": [
    "<h2> 8. Conclusion </h2>"
   ]
  },
  {
   "cell_type": "markdown",
   "id": "2d65773d",
   "metadata": {},
   "source": [
    "$$ Graph $$"
   ]
  }
 ],
 "metadata": {
  "kernelspec": {
   "display_name": "Python 3 (ipykernel)",
   "language": "python",
   "name": "python3"
  },
  "language_info": {
   "codemirror_mode": {
    "name": "ipython",
    "version": 3
   },
   "file_extension": ".py",
   "mimetype": "text/x-python",
   "name": "python",
   "nbconvert_exporter": "python",
   "pygments_lexer": "ipython3",
   "version": "3.8.10"
  }
 },
 "nbformat": 4,
 "nbformat_minor": 5
}
